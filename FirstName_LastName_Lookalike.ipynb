{
  "nbformat": 4,
  "nbformat_minor": 0,
  "metadata": {
    "colab": {
      "provenance": []
    },
    "kernelspec": {
      "name": "python3",
      "display_name": "Python 3"
    },
    "language_info": {
      "name": "python"
    }
  },
  "cells": [
    {
      "cell_type": "code",
      "source": [
        "# Import necessary libraries\n",
        "import pandas as pd\n",
        "from sklearn.metrics.pairwise import cosine_similarity\n",
        "from sklearn.preprocessing import StandardScaler\n",
        "\n",
        "# Load datasets\n",
        "customers = pd.read_csv(\"/content/Customers.csv\")\n",
        "products = pd.read_csv(\"/content/Products.csv\")\n",
        "transactions = pd.read_csv(\"/content/Transactions.csv\")\n",
        "\n",
        "# Merge datasets to create a comprehensive dataset\n",
        "data = transactions.merge(customers, on=\"CustomerID\").merge(products, on=\"ProductID\")\n",
        "\n",
        "# Feature engineering: Create customer-product interaction matrix\n",
        "customer_product_matrix = data.pivot_table(\n",
        "    index=\"CustomerID\",\n",
        "    columns=\"ProductID\",\n",
        "    values=\"Quantity\",\n",
        "    fill_value=0\n",
        ")\n",
        "\n",
        "# Normalize the data to handle differences in scale\n",
        "scaler = StandardScaler()\n",
        "customer_product_matrix_normalized = scaler.fit_transform(customer_product_matrix)\n",
        "\n",
        "# Compute the cosine similarity between customers\n",
        "similarity_matrix = cosine_similarity(customer_product_matrix_normalized)\n",
        "\n",
        "# Convert similarity matrix to a DataFrame\n",
        "similarity_df = pd.DataFrame(\n",
        "    similarity_matrix,\n",
        "    index=customer_product_matrix.index,\n",
        "    columns=customer_product_matrix.index\n",
        ")\n",
        "\n",
        "# Function to get top 3 similar customers for a given customer\n",
        "def get_top_similar_customers(customer_id, similarity_df, n=3):\n",
        "    similar_customers = similarity_df.loc[customer_id].sort_values(ascending=False).iloc[1:n+1]\n",
        "    return list(zip(similar_customers.index, similar_customers.values))\n",
        "\n",
        "# Generate lookalike recommendations for the first 20 customers (C0001 - C0020)\n",
        "lookalike_results = {}\n",
        "for customer_id in customers[\"CustomerID\"][:20]:\n",
        "    if customer_id in similarity_df.index:\n",
        "        lookalike_results[customer_id] = get_top_similar_customers(customer_id, similarity_df)\n",
        "\n",
        "# Convert lookalike results to a DataFrame for CSV export\n",
        "lookalike_list = [\n",
        "    {\"CustomerID\": key, \"SimilarCustomers\": value}\n",
        "    for key, values in lookalike_results.items()\n",
        "    for value in values\n",
        "]\n",
        "lookalike_df = pd.DataFrame(lookalike_list, columns=[\"CustomerID\", \"SimilarCustomerID\", \"SimilarityScore\"])\n",
        "\n",
        "# Save to CSV\n",
        "lookalike_df.to_csv(\"FirstName_LastName_Lookalike.csv\", index=False)\n",
        "print(\"Lookalike recommendations saved to CSV.\")\n"
      ],
      "metadata": {
        "colab": {
          "base_uri": "https://localhost:8080/"
        },
        "id": "gaAqls3bQsqP",
        "outputId": "8db799a2-ea2d-40cb-cff9-1f7d06725c95"
      },
      "execution_count": 2,
      "outputs": [
        {
          "output_type": "stream",
          "name": "stdout",
          "text": [
            "Lookalike recommendations saved to CSV.\n"
          ]
        }
      ]
    },
    {
      "cell_type": "code",
      "source": [
        "import pandas as pd\n",
        "from sklearn.metrics import pairwise_distances\n",
        "from sklearn.metrics import mean_squared_error\n",
        "\n",
        "# Evaluation Function\n",
        "def evaluate_lookalike_model(customer_product_matrix, similarity_df, lookalike_df):\n",
        "    \"\"\"\n",
        "    Evaluate the Lookalike Model based on accuracy, logic, and quality of recommendations.\n",
        "\n",
        "    Parameters:\n",
        "    - customer_product_matrix (pd.DataFrame): Customer-Product interaction matrix.\n",
        "    - similarity_df (pd.DataFrame): DataFrame containing the similarity scores.\n",
        "    - lookalike_df (pd.DataFrame): DataFrame containing lookalike recommendations.\n",
        "\n",
        "    Returns:\n",
        "    - evaluation_metrics (dict): Dictionary containing evaluation scores.\n",
        "    \"\"\"\n",
        "    # Drop rows with NaN values in 'CustomerID' or 'SimilarCustomerID'\n",
        "    lookalike_df = lookalike_df.dropna(subset=['CustomerID', 'SimilarCustomerID'])\n",
        "\n",
        "    # Metric 1: Similarity Score Consistency\n",
        "    consistent_recommendations = 0\n",
        "    total_recommendations = len(lookalike_df)\n",
        "    if total_recommendations == 0:\n",
        "        similarity_score_consistency = 0  # or any other appropriate value\n",
        "    else:\n",
        "        for _, row in lookalike_df.iterrows():\n",
        "            customer_id = row['CustomerID']\n",
        "            similar_customer_id = row['SimilarCustomerID']\n",
        "            similarity_score = row['SimilarityScore']\n",
        "\n",
        "        # Check if the stored similarity score matches the actual similarity\n",
        "            actual_similarity = similarity_df.loc[str(customer_id),str(similar_customer_id)]\n",
        "            if abs(similarity_score - actual_similarity) < 0.01:  # Threshold for minor differences\n",
        "                consistent_recommendations += 1\n",
        "\n",
        "        similarity_score_consistency = consistent_recommendations / total_recommendations\n",
        "\n",
        "    # Metric 2: Accuracy of Recommendations (MSE between stored and actual similarities)\n",
        "    if total_recommendations > 0:  # Check if there are any recommendations before calculating MSE\n",
        "        mse_similarity = mean_squared_error(\n",
        "            lookalike_df['SimilarityScore'],\n",
        "            lookalike_df.apply(lambda row: similarity_df.loc[row['CustomerID'], row['SimilarCustomerID']], axis=1)\n",
        "        )\n",
        "    else:\n",
        "        mse_similarity = 0 # or any other appropriate value if there are no recommendations\n",
        "\n",
        "\n",
        "    # Metric 3: Coverage of Recommendations\n",
        "    coverage = len(lookalike_df['SimilarCustomerID'].unique()) / len(customer_product_matrix.index)\n",
        "\n",
        "    # Metric 4: Diversity in Recommendations\n",
        "    diversity = 1 - pairwise_distances(customer_product_matrix.values, metric='cosine').mean()\n",
        "\n",
        "    # Compile evaluation metrics\n",
        "    evaluation_metrics = {\n",
        "        \"Similarity Score Consistency\": similarity_score_consistency,\n",
        "        \"MSE of Similarity Scores\": mse_similarity,\n",
        "        \"Coverage of Recommendations\": coverage,\n",
        "        \"Diversity of Recommendations\": diversity\n",
        "    }\n",
        "\n",
        "    return evaluation_metrics\n",
        "\n",
        "\n",
        "# Load lookalike results (assuming lookalike_df is already created)\n",
        "lookalike_df = pd.read_csv(\"/content/FirstName_LastName_Lookalike.csv\")\n",
        "\n",
        "# customer-product matrix (recomputed for evaluation context)\n",
        "customer_product_matrix = data.pivot_table(\n",
        "    index=\"CustomerID\",\n",
        "    columns=\"ProductID\",\n",
        "    values=\"Quantity\",\n",
        "    fill_value=0\n",
        ")\n",
        "\n",
        "# similarity DataFrame (recomputed for evaluation context)\n",
        "similarity_matrix = cosine_similarity(customer_product_matrix)\n",
        "similarity_df = pd.DataFrame(similarity_matrix, index=customer_product_matrix.index, columns=customer_product_matrix.index)\n",
        "\n",
        "# Evaluate the model\n",
        "evaluation_results = evaluate_lookalike_model(customer_product_matrix,\n",
        "                                              similarity_df,\n",
        "                                              lookalike_df)\n",
        "print(\"Evaluation Results:\")\n",
        "print(evaluation_results,end=\"\\n\")\n"
      ],
      "metadata": {
        "colab": {
          "base_uri": "https://localhost:8080/"
        },
        "id": "VFwxoXyTQ7s2",
        "outputId": "2b99bf6b-3b43-4246-d52c-ca32e7d5f9ca"
      },
      "execution_count": 13,
      "outputs": [
        {
          "output_type": "stream",
          "name": "stdout",
          "text": [
            "Evaluation Results:\n",
            "{'Similarity Score Consistency\\n': 0, 'MSE of Similarity Scores\\n': 0, 'Coverage of Recommendations\\n': 0.0, 'Diversity of Recommendations': 0.04504754422876078}\n"
          ]
        }
      ]
    }
  ]
}